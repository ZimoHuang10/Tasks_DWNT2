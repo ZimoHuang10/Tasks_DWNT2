{
 "cells": [
  {
   "cell_type": "markdown",
   "id": "2d5a0966-2a57-41d3-8d04-85f4119ac9a8",
   "metadata": {},
   "source": [
    "### The ANS Test\n",
    "\n",
    "This program runs the ANS test and a spatial reasoning task, upoloading your results to an online spreadsheet.\n",
    "\n",
    "Select **Kernel** > **Restart Kernel and Run All Cells** from the menu to run the test."
   ]
  },
  {
   "cell_type": "code",
   "execution_count": 1,
   "id": "24caf4e2-7e0c-401a-a114-f166d0da7500",
   "metadata": {
    "editable": true,
    "slideshow": {
     "slide_type": ""
    },
    "tags": []
   },
   "outputs": [],
   "source": [
    "from ans_test import *\n",
    "run_ts()"
   ]
  },
  {
   "cell_type": "code",
   "execution_count": null,
   "id": "f505d8f6-5aec-4ddb-a5b7-92fc0865fca3",
   "metadata": {},
   "outputs": [],
   "source": []
  },
  {
   "cell_type": "code",
   "execution_count": null,
   "id": "a6d75853-119f-4365-ac52-47ea3c7c7f9c",
   "metadata": {},
   "outputs": [],
   "source": []
  }
 ],
 "metadata": {
  "kernelspec": {
   "display_name": "Python 3 (ipykernel)",
   "language": "python",
   "name": "python3"
  },
  "language_info": {
   "codemirror_mode": {
    "name": "ipython",
    "version": 3
   },
   "file_extension": ".py",
   "mimetype": "text/x-python",
   "name": "python",
   "nbconvert_exporter": "python",
   "pygments_lexer": "ipython3",
   "version": "3.10.10"
  }
 },
 "nbformat": 4,
 "nbformat_minor": 5
}
